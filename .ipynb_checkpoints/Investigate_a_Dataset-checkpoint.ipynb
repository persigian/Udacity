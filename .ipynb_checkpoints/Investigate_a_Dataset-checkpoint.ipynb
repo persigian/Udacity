{
 "cells": [
  {
   "cell_type": "markdown",
   "metadata": {},
   "source": [
    "# Project: Investigate the no-show appointments dataset\n",
    "\n",
    "\n",
    "## Table of Contents\n",
    "<ul>\n",
    "<li><a href=\"#intro\">Introduction</a></li>\n",
    "<li><a href=\"#wrangling\">Data Wrangling</a></li>\n",
    "<li><a href=\"#eda\">Exploratory Data Analysis</a></li>\n",
    "<li><a href=\"#conclusions\">Conclusions</a></li>\n",
    "</ul>"
   ]
  },
  {
   "cell_type": "markdown",
   "metadata": {},
   "source": [
    "<a id='intro'></a>\n",
    "## Introduction\n",
    "\n",
    "> I have decided to work with the no-show appointments dataset provided by Kaggle.\n",
    "\n",
    ">The dataset is composed by 110,527 observations and 14 features. Specifically we can find:\n",
    "\n",
    ">- PatientId:       Unique identifier for the patient \n",
    ">- AppointmentID:    Unique identifier for the appointment\n",
    ">- Gender:            Gender \n",
    ">- ScheduledDay:      Day in which the appointment was booked\n",
    ">- AppointmentDay:    Day of the appointment \n",
    ">- Age:               Age of the patient \n",
    ">- Neighbourhood:    Location of the visit\n",
    ">- Scholarship:      Dummy to indicate if patient is part of the Brazilian welfare program\n",
    ">- Hipertension:     Dummy to indicate if patient is suffering from Hypertension \n",
    ">- Diabetes:         Dummy to indicate if patient is suffering from Diabetes \n",
    ">- Alcoholism:        Dummy to indicate if patient is suffering from Alcoholism \n",
    ">- Handcap:           Integer to indicate if patient is suffering from Handicap (from 0 to 4)\n",
    ">- SMS_received:      Dummy to indicate if patient has received an SMS to remind him/her about the visit\n",
    ">- No-show:           \"Yes\" if the patient does not show up at the appointment, \"No\" otherwise\n",
    "\n",
    "> The goal of the study is to assess the relation between the % of times the patients have shown up at an appointment and the following features:\n",
    ">- ***gender***\n",
    ">- ***day of the week***\n",
    ">- ***waiting time***\n",
    ">- ***age***\n",
    ">- ***SMS received***\n",
    ">- ***diseases suffered by the patient***\n",
    "\n",
    ">Therefore, the questions we will try to answer are the following:\n",
    "\n",
    ">- ***Are males related to a higher % of missed appointments compared to woman?***\n",
    ">- ***What is the distribution of appointments during the week? It it related to the % of attendance of the people?***\n",
    ">- ***Have those patients that suffer of some disease showed up at a medical appointment compared to those patients that are healthy?***\n",
    ">- ***Have people that received at least on SMS from the doctor missed more or less appointments compared to the other patients?***\n",
    ">- ***Are older people missing less appointments?***\n",
    ">- ***Is waiting time related to a higher % of attendance?***"
   ]
  },
  {
   "cell_type": "code",
   "execution_count": 1,
   "metadata": {},
   "outputs": [],
   "source": [
    "#importing all modules that we are going to use later \n",
    "import pandas as pd\n",
    "from scipy.stats.stats import pearsonr\n",
    "import numpy as np\n",
    "import matplotlib.pyplot as plot\n",
    "import seaborn as sns\n",
    "import datetime as dt\n",
    "% matplotlib inline "
   ]
  },
  {
   "cell_type": "markdown",
   "metadata": {},
   "source": [
    "<a id='wrangling'></a>\n",
    "## Data Wrangling\n",
    "\n",
    "### General Properties"
   ]
  },
  {
   "cell_type": "code",
   "execution_count": 2,
   "metadata": {},
   "outputs": [
    {
     "data": {
      "text/html": [
       "<div>\n",
       "<style scoped>\n",
       "    .dataframe tbody tr th:only-of-type {\n",
       "        vertical-align: middle;\n",
       "    }\n",
       "\n",
       "    .dataframe tbody tr th {\n",
       "        vertical-align: top;\n",
       "    }\n",
       "\n",
       "    .dataframe thead th {\n",
       "        text-align: right;\n",
       "    }\n",
       "</style>\n",
       "<table border=\"1\" class=\"dataframe\">\n",
       "  <thead>\n",
       "    <tr style=\"text-align: right;\">\n",
       "      <th></th>\n",
       "      <th>PatientId</th>\n",
       "      <th>AppointmentID</th>\n",
       "      <th>Gender</th>\n",
       "      <th>ScheduledDay</th>\n",
       "      <th>AppointmentDay</th>\n",
       "      <th>Age</th>\n",
       "      <th>Neighbourhood</th>\n",
       "      <th>Scholarship</th>\n",
       "      <th>Hipertension</th>\n",
       "      <th>Diabetes</th>\n",
       "      <th>Alcoholism</th>\n",
       "      <th>Handcap</th>\n",
       "      <th>SMS_received</th>\n",
       "      <th>No-show</th>\n",
       "    </tr>\n",
       "  </thead>\n",
       "  <tbody>\n",
       "    <tr>\n",
       "      <th>0</th>\n",
       "      <td>2.987250e+13</td>\n",
       "      <td>5642903</td>\n",
       "      <td>F</td>\n",
       "      <td>2016-04-29T18:38:08Z</td>\n",
       "      <td>2016-04-29T00:00:00Z</td>\n",
       "      <td>62</td>\n",
       "      <td>JARDIM DA PENHA</td>\n",
       "      <td>0</td>\n",
       "      <td>1</td>\n",
       "      <td>0</td>\n",
       "      <td>0</td>\n",
       "      <td>0</td>\n",
       "      <td>0</td>\n",
       "      <td>No</td>\n",
       "    </tr>\n",
       "    <tr>\n",
       "      <th>1</th>\n",
       "      <td>5.589978e+14</td>\n",
       "      <td>5642503</td>\n",
       "      <td>M</td>\n",
       "      <td>2016-04-29T16:08:27Z</td>\n",
       "      <td>2016-04-29T00:00:00Z</td>\n",
       "      <td>56</td>\n",
       "      <td>JARDIM DA PENHA</td>\n",
       "      <td>0</td>\n",
       "      <td>0</td>\n",
       "      <td>0</td>\n",
       "      <td>0</td>\n",
       "      <td>0</td>\n",
       "      <td>0</td>\n",
       "      <td>No</td>\n",
       "    </tr>\n",
       "    <tr>\n",
       "      <th>2</th>\n",
       "      <td>4.262962e+12</td>\n",
       "      <td>5642549</td>\n",
       "      <td>F</td>\n",
       "      <td>2016-04-29T16:19:04Z</td>\n",
       "      <td>2016-04-29T00:00:00Z</td>\n",
       "      <td>62</td>\n",
       "      <td>MATA DA PRAIA</td>\n",
       "      <td>0</td>\n",
       "      <td>0</td>\n",
       "      <td>0</td>\n",
       "      <td>0</td>\n",
       "      <td>0</td>\n",
       "      <td>0</td>\n",
       "      <td>No</td>\n",
       "    </tr>\n",
       "    <tr>\n",
       "      <th>3</th>\n",
       "      <td>8.679512e+11</td>\n",
       "      <td>5642828</td>\n",
       "      <td>F</td>\n",
       "      <td>2016-04-29T17:29:31Z</td>\n",
       "      <td>2016-04-29T00:00:00Z</td>\n",
       "      <td>8</td>\n",
       "      <td>PONTAL DE CAMBURI</td>\n",
       "      <td>0</td>\n",
       "      <td>0</td>\n",
       "      <td>0</td>\n",
       "      <td>0</td>\n",
       "      <td>0</td>\n",
       "      <td>0</td>\n",
       "      <td>No</td>\n",
       "    </tr>\n",
       "    <tr>\n",
       "      <th>4</th>\n",
       "      <td>8.841186e+12</td>\n",
       "      <td>5642494</td>\n",
       "      <td>F</td>\n",
       "      <td>2016-04-29T16:07:23Z</td>\n",
       "      <td>2016-04-29T00:00:00Z</td>\n",
       "      <td>56</td>\n",
       "      <td>JARDIM DA PENHA</td>\n",
       "      <td>0</td>\n",
       "      <td>1</td>\n",
       "      <td>1</td>\n",
       "      <td>0</td>\n",
       "      <td>0</td>\n",
       "      <td>0</td>\n",
       "      <td>No</td>\n",
       "    </tr>\n",
       "  </tbody>\n",
       "</table>\n",
       "</div>"
      ],
      "text/plain": [
       "      PatientId  AppointmentID Gender          ScheduledDay  \\\n",
       "0  2.987250e+13        5642903      F  2016-04-29T18:38:08Z   \n",
       "1  5.589978e+14        5642503      M  2016-04-29T16:08:27Z   \n",
       "2  4.262962e+12        5642549      F  2016-04-29T16:19:04Z   \n",
       "3  8.679512e+11        5642828      F  2016-04-29T17:29:31Z   \n",
       "4  8.841186e+12        5642494      F  2016-04-29T16:07:23Z   \n",
       "\n",
       "         AppointmentDay  Age      Neighbourhood  Scholarship  Hipertension  \\\n",
       "0  2016-04-29T00:00:00Z   62    JARDIM DA PENHA            0             1   \n",
       "1  2016-04-29T00:00:00Z   56    JARDIM DA PENHA            0             0   \n",
       "2  2016-04-29T00:00:00Z   62      MATA DA PRAIA            0             0   \n",
       "3  2016-04-29T00:00:00Z    8  PONTAL DE CAMBURI            0             0   \n",
       "4  2016-04-29T00:00:00Z   56    JARDIM DA PENHA            0             1   \n",
       "\n",
       "   Diabetes  Alcoholism  Handcap  SMS_received No-show  \n",
       "0         0           0        0             0      No  \n",
       "1         0           0        0             0      No  \n",
       "2         0           0        0             0      No  \n",
       "3         0           0        0             0      No  \n",
       "4         1           0        0             0      No  "
      ]
     },
     "execution_count": 2,
     "metadata": {},
     "output_type": "execute_result"
    }
   ],
   "source": [
    "# Load your data and print out a few lines. Perform operations to inspect data\n",
    "#   types and look for instances of missing or possibly errant data.\n",
    "\n",
    "df = pd.read_csv('noshowappointments.csv')\n",
    "df.head()\n",
    "\n",
    "# we will need to transform to datetype the variables AppointmentDy and Nighbourhood."
   ]
  },
  {
   "cell_type": "code",
   "execution_count": 3,
   "metadata": {},
   "outputs": [
    {
     "data": {
      "text/html": [
       "<div>\n",
       "<style scoped>\n",
       "    .dataframe tbody tr th:only-of-type {\n",
       "        vertical-align: middle;\n",
       "    }\n",
       "\n",
       "    .dataframe tbody tr th {\n",
       "        vertical-align: top;\n",
       "    }\n",
       "\n",
       "    .dataframe thead th {\n",
       "        text-align: right;\n",
       "    }\n",
       "</style>\n",
       "<table border=\"1\" class=\"dataframe\">\n",
       "  <thead>\n",
       "    <tr style=\"text-align: right;\">\n",
       "      <th></th>\n",
       "      <th>PatientId</th>\n",
       "      <th>AppointmentID</th>\n",
       "      <th>Age</th>\n",
       "      <th>Scholarship</th>\n",
       "      <th>Hipertension</th>\n",
       "      <th>Diabetes</th>\n",
       "      <th>Alcoholism</th>\n",
       "      <th>Handcap</th>\n",
       "      <th>SMS_received</th>\n",
       "    </tr>\n",
       "  </thead>\n",
       "  <tbody>\n",
       "    <tr>\n",
       "      <th>count</th>\n",
       "      <td>1.105270e+05</td>\n",
       "      <td>1.105270e+05</td>\n",
       "      <td>110527.000000</td>\n",
       "      <td>110527.000000</td>\n",
       "      <td>110527.000000</td>\n",
       "      <td>110527.000000</td>\n",
       "      <td>110527.000000</td>\n",
       "      <td>110527.000000</td>\n",
       "      <td>110527.000000</td>\n",
       "    </tr>\n",
       "    <tr>\n",
       "      <th>mean</th>\n",
       "      <td>1.474963e+14</td>\n",
       "      <td>5.675305e+06</td>\n",
       "      <td>37.088874</td>\n",
       "      <td>0.098266</td>\n",
       "      <td>0.197246</td>\n",
       "      <td>0.071865</td>\n",
       "      <td>0.030400</td>\n",
       "      <td>0.022248</td>\n",
       "      <td>0.321026</td>\n",
       "    </tr>\n",
       "    <tr>\n",
       "      <th>std</th>\n",
       "      <td>2.560949e+14</td>\n",
       "      <td>7.129575e+04</td>\n",
       "      <td>23.110205</td>\n",
       "      <td>0.297675</td>\n",
       "      <td>0.397921</td>\n",
       "      <td>0.258265</td>\n",
       "      <td>0.171686</td>\n",
       "      <td>0.161543</td>\n",
       "      <td>0.466873</td>\n",
       "    </tr>\n",
       "    <tr>\n",
       "      <th>min</th>\n",
       "      <td>3.921784e+04</td>\n",
       "      <td>5.030230e+06</td>\n",
       "      <td>-1.000000</td>\n",
       "      <td>0.000000</td>\n",
       "      <td>0.000000</td>\n",
       "      <td>0.000000</td>\n",
       "      <td>0.000000</td>\n",
       "      <td>0.000000</td>\n",
       "      <td>0.000000</td>\n",
       "    </tr>\n",
       "    <tr>\n",
       "      <th>25%</th>\n",
       "      <td>4.172614e+12</td>\n",
       "      <td>5.640286e+06</td>\n",
       "      <td>18.000000</td>\n",
       "      <td>0.000000</td>\n",
       "      <td>0.000000</td>\n",
       "      <td>0.000000</td>\n",
       "      <td>0.000000</td>\n",
       "      <td>0.000000</td>\n",
       "      <td>0.000000</td>\n",
       "    </tr>\n",
       "    <tr>\n",
       "      <th>50%</th>\n",
       "      <td>3.173184e+13</td>\n",
       "      <td>5.680573e+06</td>\n",
       "      <td>37.000000</td>\n",
       "      <td>0.000000</td>\n",
       "      <td>0.000000</td>\n",
       "      <td>0.000000</td>\n",
       "      <td>0.000000</td>\n",
       "      <td>0.000000</td>\n",
       "      <td>0.000000</td>\n",
       "    </tr>\n",
       "    <tr>\n",
       "      <th>75%</th>\n",
       "      <td>9.439172e+13</td>\n",
       "      <td>5.725524e+06</td>\n",
       "      <td>55.000000</td>\n",
       "      <td>0.000000</td>\n",
       "      <td>0.000000</td>\n",
       "      <td>0.000000</td>\n",
       "      <td>0.000000</td>\n",
       "      <td>0.000000</td>\n",
       "      <td>1.000000</td>\n",
       "    </tr>\n",
       "    <tr>\n",
       "      <th>max</th>\n",
       "      <td>9.999816e+14</td>\n",
       "      <td>5.790484e+06</td>\n",
       "      <td>115.000000</td>\n",
       "      <td>1.000000</td>\n",
       "      <td>1.000000</td>\n",
       "      <td>1.000000</td>\n",
       "      <td>1.000000</td>\n",
       "      <td>4.000000</td>\n",
       "      <td>1.000000</td>\n",
       "    </tr>\n",
       "  </tbody>\n",
       "</table>\n",
       "</div>"
      ],
      "text/plain": [
       "          PatientId  AppointmentID            Age    Scholarship  \\\n",
       "count  1.105270e+05   1.105270e+05  110527.000000  110527.000000   \n",
       "mean   1.474963e+14   5.675305e+06      37.088874       0.098266   \n",
       "std    2.560949e+14   7.129575e+04      23.110205       0.297675   \n",
       "min    3.921784e+04   5.030230e+06      -1.000000       0.000000   \n",
       "25%    4.172614e+12   5.640286e+06      18.000000       0.000000   \n",
       "50%    3.173184e+13   5.680573e+06      37.000000       0.000000   \n",
       "75%    9.439172e+13   5.725524e+06      55.000000       0.000000   \n",
       "max    9.999816e+14   5.790484e+06     115.000000       1.000000   \n",
       "\n",
       "        Hipertension       Diabetes     Alcoholism        Handcap  \\\n",
       "count  110527.000000  110527.000000  110527.000000  110527.000000   \n",
       "mean        0.197246       0.071865       0.030400       0.022248   \n",
       "std         0.397921       0.258265       0.171686       0.161543   \n",
       "min         0.000000       0.000000       0.000000       0.000000   \n",
       "25%         0.000000       0.000000       0.000000       0.000000   \n",
       "50%         0.000000       0.000000       0.000000       0.000000   \n",
       "75%         0.000000       0.000000       0.000000       0.000000   \n",
       "max         1.000000       1.000000       1.000000       4.000000   \n",
       "\n",
       "        SMS_received  \n",
       "count  110527.000000  \n",
       "mean        0.321026  \n",
       "std         0.466873  \n",
       "min         0.000000  \n",
       "25%         0.000000  \n",
       "50%         0.000000  \n",
       "75%         1.000000  \n",
       "max         1.000000  "
      ]
     },
     "execution_count": 3,
     "metadata": {},
     "output_type": "execute_result"
    }
   ],
   "source": [
    "# stats about each numerical column\n",
    "df.describe()\n",
    "# there is one or more observation with a patient of -1 years. This line will be dropped at a later stage\n",
    "# there are 4 types of handicaps. To have a dummy (0= no handicap, 1= handicap) we will set all numbers above one equal to one."
   ]
  },
  {
   "cell_type": "code",
   "execution_count": 4,
   "metadata": {},
   "outputs": [
    {
     "name": "stdout",
     "output_type": "stream",
     "text": [
      "<class 'pandas.core.frame.DataFrame'>\n",
      "RangeIndex: 110527 entries, 0 to 110526\n",
      "Data columns (total 14 columns):\n",
      "PatientId         110527 non-null float64\n",
      "AppointmentID     110527 non-null int64\n",
      "Gender            110527 non-null object\n",
      "ScheduledDay      110527 non-null object\n",
      "AppointmentDay    110527 non-null object\n",
      "Age               110527 non-null int64\n",
      "Neighbourhood     110527 non-null object\n",
      "Scholarship       110527 non-null int64\n",
      "Hipertension      110527 non-null int64\n",
      "Diabetes          110527 non-null int64\n",
      "Alcoholism        110527 non-null int64\n",
      "Handcap           110527 non-null int64\n",
      "SMS_received      110527 non-null int64\n",
      "No-show           110527 non-null object\n",
      "dtypes: float64(1), int64(8), object(5)\n",
      "memory usage: 11.8+ MB\n"
     ]
    }
   ],
   "source": [
    "#info about each column\n",
    "df.info()"
   ]
  },
  {
   "cell_type": "code",
   "execution_count": 5,
   "metadata": {},
   "outputs": [
    {
     "data": {
      "text/plain": [
       "PatientId         0\n",
       "AppointmentID     0\n",
       "Gender            0\n",
       "ScheduledDay      0\n",
       "AppointmentDay    0\n",
       "Age               0\n",
       "Neighbourhood     0\n",
       "Scholarship       0\n",
       "Hipertension      0\n",
       "Diabetes          0\n",
       "Alcoholism        0\n",
       "Handcap           0\n",
       "SMS_received      0\n",
       "No-show           0\n",
       "dtype: int64"
      ]
     },
     "execution_count": 5,
     "metadata": {},
     "output_type": "execute_result"
    }
   ],
   "source": [
    "#check if there are null values\n",
    "len(df)-df.count()\n",
    "# no null values detected"
   ]
  },
  {
   "cell_type": "code",
   "execution_count": 6,
   "metadata": {},
   "outputs": [
    {
     "data": {
      "text/plain": [
       "0"
      ]
     },
     "execution_count": 6,
     "metadata": {},
     "output_type": "execute_result"
    }
   ],
   "source": [
    "#check if there are duplicates\n",
    "sum(df.AppointmentID.duplicated())\n",
    "#no duplicates detected"
   ]
  },
  {
   "cell_type": "code",
   "execution_count": 7,
   "metadata": {},
   "outputs": [
    {
     "data": {
      "text/plain": [
       "(110527, 14)"
      ]
     },
     "execution_count": 7,
     "metadata": {},
     "output_type": "execute_result"
    }
   ],
   "source": [
    "#check the structure of the dataset\n",
    "df.shape\n",
    "#110,527 lines and 14 columns"
   ]
  },
  {
   "cell_type": "code",
   "execution_count": 8,
   "metadata": {},
   "outputs": [
    {
     "data": {
      "text/plain": [
       "Text(0.5,1,'Distribution of numerical variables')"
      ]
     },
     "execution_count": 8,
     "metadata": {},
     "output_type": "execute_result"
    },
    {
     "data": {
      "image/png": "[encoded data removed]",
      "text/plain": [
       "<matplotlib.figure.Figure at 0x7f7b9e493f28>"
      ]
     },
     "metadata": {
      "needs_background": "light"
     },
     "output_type": "display_data"
    }
   ],
   "source": [
    "#Histogram to have a graphic view of the distribution of the variables\n",
    "df.hist(figsize =(12,12))\n",
    "plot.title('Distribution of numerical variables')\n",
    "\n",
    "#all dummies have much more zero values than one values. "
   ]
  },
  {
   "cell_type": "markdown",
   "metadata": {},
   "source": [
    ">- All dummies have much more 0 values than 1 values;\n",
    ">- Most of the population is concentrated in the age range between 0 and 60 years old;\n",
    ">- Handicap variable, which is suppose to be a true/false dummy, has 5 different values. "
   ]
  },
  {
   "cell_type": "markdown",
   "metadata": {},
   "source": [
    "### Data management and cleaning\n",
    "\n",
    ">Overall, the data structure looks clean. Only minor adjustments are needed. We are going to address them in the following cells.\n",
    "\n",
    ">Moreover, we are also going to create some new variables that will prove useful to study the data later. \n"
   ]
  },
  {
   "cell_type": "code",
   "execution_count": 9,
   "metadata": {},
   "outputs": [
    {
     "data": {
      "text/plain": [
       "(110526, 16)"
      ]
     },
     "execution_count": 9,
     "metadata": {},
     "output_type": "execute_result"
    }
   ],
   "source": [
    "#change 'ScheduledDay' and 'AppointmentDay' to datetype variables. \n",
    "df['ScheduledDay'] = pd.to_datetime(df['ScheduledDay']).dt.date\n",
    "df['AppointmentDay'] = pd.to_datetime(df['AppointmentDay']).dt.date\n",
    "# identify in which day of the week the appointment or the booking is made\n",
    "df['day_week_Sch'] = pd.to_datetime(df['ScheduledDay'], errors='coerce').dt.day_name()\n",
    "df['day_week_App'] = pd.to_datetime(df['AppointmentDay'], errors='coerce').dt.day_name()\n",
    "#drop observations with patient of age <0\n",
    "df = df[df['Age'] >= 0]\n",
    "# assign 'Handcap' value = 1 to those observations that present values higher than 1\n",
    "df.loc[df['Handcap']>1, ['Handcap']] = 1\n",
    "df.shape"
   ]
  },
  {
   "cell_type": "code",
   "execution_count": 10,
   "metadata": {},
   "outputs": [
    {
     "data": {
      "text/html": [
       "<div>\n",
       "<style scoped>\n",
       "    .dataframe tbody tr th:only-of-type {\n",
       "        vertical-align: middle;\n",
       "    }\n",
       "\n",
       "    .dataframe tbody tr th {\n",
       "        vertical-align: top;\n",
       "    }\n",
       "\n",
       "    .dataframe thead th {\n",
       "        text-align: right;\n",
       "    }\n",
       "</style>\n",
       "<table border=\"1\" class=\"dataframe\">\n",
       "  <thead>\n",
       "    <tr style=\"text-align: right;\">\n",
       "      <th></th>\n",
       "      <th>PatientId</th>\n",
       "      <th>AppointmentID</th>\n",
       "      <th>Gender</th>\n",
       "      <th>ScheduledDay</th>\n",
       "      <th>AppointmentDay</th>\n",
       "      <th>Age</th>\n",
       "      <th>Neighbourhood</th>\n",
       "      <th>Scholarship</th>\n",
       "      <th>Hipertension</th>\n",
       "      <th>Diabetes</th>\n",
       "      <th>...</th>\n",
       "      <th>Handcap</th>\n",
       "      <th>SMS_received</th>\n",
       "      <th>day_week_Sch</th>\n",
       "      <th>day_week_App</th>\n",
       "      <th>show</th>\n",
       "      <th>wait</th>\n",
       "      <th>times</th>\n",
       "      <th>times_went</th>\n",
       "      <th>times_per</th>\n",
       "      <th>avg_wait</th>\n",
       "    </tr>\n",
       "  </thead>\n",
       "  <tbody>\n",
       "    <tr>\n",
       "      <th>0</th>\n",
       "      <td>2.987250e+13</td>\n",
       "      <td>5642903</td>\n",
       "      <td>F</td>\n",
       "      <td>2016-04-29</td>\n",
       "      <td>2016-04-29</td>\n",
       "      <td>62</td>\n",
       "      <td>JARDIM DA PENHA</td>\n",
       "      <td>0</td>\n",
       "      <td>1</td>\n",
       "      <td>0</td>\n",
       "      <td>...</td>\n",
       "      <td>0</td>\n",
       "      <td>0</td>\n",
       "      <td>Friday</td>\n",
       "      <td>Friday</td>\n",
       "      <td>1</td>\n",
       "      <td>0</td>\n",
       "      <td>2</td>\n",
       "      <td>2</td>\n",
       "      <td>1.0</td>\n",
       "      <td>0.0</td>\n",
       "    </tr>\n",
       "    <tr>\n",
       "      <th>1</th>\n",
       "      <td>5.589978e+14</td>\n",
       "      <td>5642503</td>\n",
       "      <td>M</td>\n",
       "      <td>2016-04-29</td>\n",
       "      <td>2016-04-29</td>\n",
       "      <td>56</td>\n",
       "      <td>JARDIM DA PENHA</td>\n",
       "      <td>0</td>\n",
       "      <td>0</td>\n",
       "      <td>0</td>\n",
       "      <td>...</td>\n",
       "      <td>0</td>\n",
       "      <td>0</td>\n",
       "      <td>Friday</td>\n",
       "      <td>Friday</td>\n",
       "      <td>1</td>\n",
       "      <td>0</td>\n",
       "      <td>2</td>\n",
       "      <td>2</td>\n",
       "      <td>1.0</td>\n",
       "      <td>0.0</td>\n",
       "    </tr>\n",
       "    <tr>\n",
       "      <th>2</th>\n",
       "      <td>4.262962e+12</td>\n",
       "      <td>5642549</td>\n",
       "      <td>F</td>\n",
       "      <td>2016-04-29</td>\n",
       "      <td>2016-04-29</td>\n",
       "      <td>62</td>\n",
       "      <td>MATA DA PRAIA</td>\n",
       "      <td>0</td>\n",
       "      <td>0</td>\n",
       "      <td>0</td>\n",
       "      <td>...</td>\n",
       "      <td>0</td>\n",
       "      <td>0</td>\n",
       "      <td>Friday</td>\n",
       "      <td>Friday</td>\n",
       "      <td>1</td>\n",
       "      <td>0</td>\n",
       "      <td>2</td>\n",
       "      <td>2</td>\n",
       "      <td>1.0</td>\n",
       "      <td>0.0</td>\n",
       "    </tr>\n",
       "    <tr>\n",
       "      <th>3</th>\n",
       "      <td>8.679512e+11</td>\n",
       "      <td>5642828</td>\n",
       "      <td>F</td>\n",
       "      <td>2016-04-29</td>\n",
       "      <td>2016-04-29</td>\n",
       "      <td>8</td>\n",
       "      <td>PONTAL DE CAMBURI</td>\n",
       "      <td>0</td>\n",
       "      <td>0</td>\n",
       "      <td>0</td>\n",
       "      <td>...</td>\n",
       "      <td>0</td>\n",
       "      <td>0</td>\n",
       "      <td>Friday</td>\n",
       "      <td>Friday</td>\n",
       "      <td>1</td>\n",
       "      <td>0</td>\n",
       "      <td>2</td>\n",
       "      <td>1</td>\n",
       "      <td>0.5</td>\n",
       "      <td>12.0</td>\n",
       "    </tr>\n",
       "    <tr>\n",
       "      <th>4</th>\n",
       "      <td>8.841186e+12</td>\n",
       "      <td>5642494</td>\n",
       "      <td>F</td>\n",
       "      <td>2016-04-29</td>\n",
       "      <td>2016-04-29</td>\n",
       "      <td>56</td>\n",
       "      <td>JARDIM DA PENHA</td>\n",
       "      <td>0</td>\n",
       "      <td>1</td>\n",
       "      <td>1</td>\n",
       "      <td>...</td>\n",
       "      <td>0</td>\n",
       "      <td>0</td>\n",
       "      <td>Friday</td>\n",
       "      <td>Friday</td>\n",
       "      <td>1</td>\n",
       "      <td>0</td>\n",
       "      <td>1</td>\n",
       "      <td>1</td>\n",
       "      <td>1.0</td>\n",
       "      <td>0.0</td>\n",
       "    </tr>\n",
       "  </tbody>\n",
       "</table>\n",
       "<p>5 rows × 21 columns</p>\n",
       "</div>"
      ],
      "text/plain": [
       "      PatientId  AppointmentID Gender ScheduledDay AppointmentDay  Age  \\\n",
       "0  2.987250e+13        5642903      F   2016-04-29     2016-04-29   62   \n",
       "1  5.589978e+14        5642503      M   2016-04-29     2016-04-29   56   \n",
       "2  4.262962e+12        5642549      F   2016-04-29     2016-04-29   62   \n",
       "3  8.679512e+11        5642828      F   2016-04-29     2016-04-29    8   \n",
       "4  8.841186e+12        5642494      F   2016-04-29     2016-04-29   56   \n",
       "\n",
       "       Neighbourhood  Scholarship  Hipertension  Diabetes    ...     Handcap  \\\n",
       "0    JARDIM DA PENHA            0             1         0    ...           0   \n",
       "1    JARDIM DA PENHA            0             0         0    ...           0   \n",
       "2      MATA DA PRAIA            0             0         0    ...           0   \n",
       "3  PONTAL DE CAMBURI            0             0         0    ...           0   \n",
       "4    JARDIM DA PENHA            0             1         1    ...           0   \n",
       "\n",
       "   SMS_received  day_week_Sch day_week_App show  wait  times  times_went  \\\n",
       "0             0        Friday       Friday    1     0      2           2   \n",
       "1             0        Friday       Friday    1     0      2           2   \n",
       "2             0        Friday       Friday    1     0      2           2   \n",
       "3             0        Friday       Friday    1     0      2           1   \n",
       "4             0        Friday       Friday    1     0      1           1   \n",
       "\n",
       "   times_per  avg_wait  \n",
       "0        1.0       0.0  \n",
       "1        1.0       0.0  \n",
       "2        1.0       0.0  \n",
       "3        0.5      12.0  \n",
       "4        1.0       0.0  \n",
       "\n",
       "[5 rows x 21 columns]"
      ]
     },
     "execution_count": 10,
     "metadata": {},
     "output_type": "execute_result"
    }
   ],
   "source": [
    "# creating a numerical variable to define whether a patient has showed up or not to an appointment.\n",
    "df['show'] = 0\n",
    "df.loc[df['No-show']=='No', ['show']] = 1\n",
    "del df['No-show']\n",
    "# creating variable wait to study the waiting time (in days) between the appointment and when it was set up. \n",
    "df['wait'] = (df['AppointmentDay'] - df['ScheduledDay']).dt.days\n",
    "# drop those observations for which the appointment day is later than the day it was set up\n",
    "df = df[df['wait']>= 0]\n",
    "# counting, for each 'PatientId', how many appointments she/he had, at how many she/he showed up and what is the percentage\n",
    "df['times'] = df.groupby(['PatientId'])['AppointmentID'].transform(np.size)\n",
    "df['times_went'] = df.groupby(['PatientId'])['show'].transform(sum)\n",
    "df['times_per'] = df['times_went']/df['times']\n",
    "# compute average waiting time per patient\n",
    "df['avg_wait'] = df.groupby(['PatientId'])['wait'].transform(np.mean)\n",
    "df.head()\n"
   ]
  },
  {
   "cell_type": "code",
   "execution_count": 11,
   "metadata": {},
   "outputs": [
    {
     "data": {
      "text/plain": [
       "(62298, 16)"
      ]
     },
     "execution_count": 11,
     "metadata": {},
     "output_type": "execute_result"
    }
   ],
   "source": [
    "# creation of another dataframe (df1), where there is one observation for each patient, so that we can study the relation with patient’s features without double counting them. \n",
    "# patients' characteristics on the probability that he/she will show up at the appointment. \n",
    "df1 = df.drop_duplicates(subset = ['PatientId'])\n",
    "del (df1['show'], df1['AppointmentDay'], df1['ScheduledDay'], df1['wait'],df1['AppointmentID'])\n",
    "df1.shape\n",
    "# the new dataframe has 62,298 observations, meaning that the dataset present data for more than 62,000 people. "
   ]
  },
  {
   "cell_type": "markdown",
   "metadata": {},
   "source": [
    "<a id='eda'></a>\n",
    "## Exploratory Data Analysis"
   ]
  },
  {
   "cell_type": "markdown",
   "metadata": {},
   "source": [
    "# GENDER ANALYSIS\n",
    "\n",
    ">- ***Are males related to a higher % of missed appointments compared to woman?***\n",
    "\n",
    " #### Although, in the dataset, males and females display different characteristics (on average females are older, have more access to the government's welfare program and suffer less from alcoholism), they show the same behaviour by attending roughly 80% of the appointments.\n",
    " \n",
    " #### Therefore, gender might not be related to probability of showing up at the medical appointment\n"
   ]
  },
  {
   "cell_type": "code",
   "execution_count": 12,
   "metadata": {},
   "outputs": [
    {
     "data": {
      "text/html": [
       "<div>\n",
       "<style scoped>\n",
       "    .dataframe tbody tr th:only-of-type {\n",
       "        vertical-align: middle;\n",
       "    }\n",
       "\n",
       "    .dataframe tbody tr th {\n",
       "        vertical-align: top;\n",
       "    }\n",
       "\n",
       "    .dataframe thead th {\n",
       "        text-align: right;\n",
       "    }\n",
       "</style>\n",
       "<table border=\"1\" class=\"dataframe\">\n",
       "  <thead>\n",
       "    <tr style=\"text-align: right;\">\n",
       "      <th></th>\n",
       "      <th>PatientId</th>\n",
       "      <th>Age</th>\n",
       "      <th>Scholarship</th>\n",
       "      <th>Hipertension</th>\n",
       "      <th>Diabetes</th>\n",
       "      <th>Alcoholism</th>\n",
       "      <th>Handcap</th>\n",
       "      <th>SMS_received</th>\n",
       "      <th>times</th>\n",
       "      <th>times_went</th>\n",
       "      <th>times_per</th>\n",
       "      <th>avg_wait</th>\n",
       "    </tr>\n",
       "  </thead>\n",
       "  <tbody>\n",
       "    <tr>\n",
       "      <th>count</th>\n",
       "      <td>4.004500e+04</td>\n",
       "      <td>40045.000000</td>\n",
       "      <td>40045.000000</td>\n",
       "      <td>40045.000000</td>\n",
       "      <td>40045.000000</td>\n",
       "      <td>40045.000000</td>\n",
       "      <td>40045.000000</td>\n",
       "      <td>40045.000000</td>\n",
       "      <td>40045.000000</td>\n",
       "      <td>40045.000000</td>\n",
       "      <td>40045.000000</td>\n",
       "      <td>40045.000000</td>\n",
       "    </tr>\n",
       "    <tr>\n",
       "      <th>mean</th>\n",
       "      <td>1.466488e+14</td>\n",
       "      <td>38.582645</td>\n",
       "      <td>0.117393</td>\n",
       "      <td>0.212586</td>\n",
       "      <td>0.076214</td>\n",
       "      <td>0.014184</td>\n",
       "      <td>0.015707</td>\n",
       "      <td>0.338269</td>\n",
       "      <td>1.793882</td>\n",
       "      <td>1.429517</td>\n",
       "      <td>0.804034</td>\n",
       "      <td>11.390302</td>\n",
       "    </tr>\n",
       "    <tr>\n",
       "      <th>std</th>\n",
       "      <td>2.549155e+14</td>\n",
       "      <td>22.649072</td>\n",
       "      <td>0.321892</td>\n",
       "      <td>0.409142</td>\n",
       "      <td>0.265344</td>\n",
       "      <td>0.118251</td>\n",
       "      <td>0.124342</td>\n",
       "      <td>0.473127</td>\n",
       "      <td>1.530128</td>\n",
       "      <td>1.377487</td>\n",
       "      <td>0.348561</td>\n",
       "      <td>15.185358</td>\n",
       "    </tr>\n",
       "    <tr>\n",
       "      <th>min</th>\n",
       "      <td>3.921784e+04</td>\n",
       "      <td>0.000000</td>\n",
       "      <td>0.000000</td>\n",
       "      <td>0.000000</td>\n",
       "      <td>0.000000</td>\n",
       "      <td>0.000000</td>\n",
       "      <td>0.000000</td>\n",
       "      <td>0.000000</td>\n",
       "      <td>1.000000</td>\n",
       "      <td>0.000000</td>\n",
       "      <td>0.000000</td>\n",
       "      <td>0.000000</td>\n",
       "    </tr>\n",
       "    <tr>\n",
       "      <th>25%</th>\n",
       "      <td>4.164200e+12</td>\n",
       "      <td>20.000000</td>\n",
       "      <td>0.000000</td>\n",
       "      <td>0.000000</td>\n",
       "      <td>0.000000</td>\n",
       "      <td>0.000000</td>\n",
       "      <td>0.000000</td>\n",
       "      <td>0.000000</td>\n",
       "      <td>1.000000</td>\n",
       "      <td>1.000000</td>\n",
       "      <td>0.666667</td>\n",
       "      <td>0.250000</td>\n",
       "    </tr>\n",
       "    <tr>\n",
       "      <th>50%</th>\n",
       "      <td>3.164267e+13</td>\n",
       "      <td>38.000000</td>\n",
       "      <td>0.000000</td>\n",
       "      <td>0.000000</td>\n",
       "      <td>0.000000</td>\n",
       "      <td>0.000000</td>\n",
       "      <td>0.000000</td>\n",
       "      <td>0.000000</td>\n",
       "      <td>1.000000</td>\n",
       "      <td>1.000000</td>\n",
       "      <td>1.000000</td>\n",
       "      <td>6.000000</td>\n",
       "    </tr>\n",
       "    <tr>\n",
       "      <th>75%</th>\n",
       "      <td>9.456823e+13</td>\n",
       "      <td>56.000000</td>\n",
       "      <td>0.000000</td>\n",
       "      <td>0.000000</td>\n",
       "      <td>0.000000</td>\n",
       "      <td>0.000000</td>\n",
       "      <td>0.000000</td>\n",
       "      <td>1.000000</td>\n",
       "      <td>2.000000</td>\n",
       "      <td>2.000000</td>\n",
       "      <td>1.000000</td>\n",
       "      <td>17.000000</td>\n",
       "    </tr>\n",
       "    <tr>\n",
       "      <th>max</th>\n",
       "      <td>9.999816e+14</td>\n",
       "      <td>115.000000</td>\n",
       "      <td>1.000000</td>\n",
       "      <td>1.000000</td>\n",
       "      <td>1.000000</td>\n",
       "      <td>1.000000</td>\n",
       "      <td>1.000000</td>\n",
       "      <td>1.000000</td>\n",
       "      <td>57.000000</td>\n",
       "      <td>56.000000</td>\n",
       "      <td>1.000000</td>\n",
       "      <td>179.000000</td>\n",
       "    </tr>\n",
       "  </tbody>\n",
       "</table>\n",
       "</div>"
      ],
      "text/plain": [
       "          PatientId           Age   Scholarship  Hipertension      Diabetes  \\\n",
       "count  4.004500e+04  40045.000000  40045.000000  40045.000000  40045.000000   \n",
       "mean   1.466488e+14     38.582645      0.117393      0.212586      0.076214   \n",
       "std    2.549155e+14     22.649072      0.321892      0.409142      0.265344   \n",
       "min    3.921784e+04      0.000000      0.000000      0.000000      0.000000   \n",
       "25%    4.164200e+12     20.000000      0.000000      0.000000      0.000000   \n",
       "50%    3.164267e+13     38.000000      0.000000      0.000000      0.000000   \n",
       "75%    9.456823e+13     56.000000      0.000000      0.000000      0.000000   \n",
       "max    9.999816e+14    115.000000      1.000000      1.000000      1.000000   \n",
       "\n",
       "         Alcoholism       Handcap  SMS_received         times    times_went  \\\n",
       "count  40045.000000  40045.000000  40045.000000  40045.000000  40045.000000   \n",
       "mean       0.014184      0.015707      0.338269      1.793882      1.429517   \n",
       "std        0.118251      0.124342      0.473127      1.530128      1.377487   \n",
       "min        0.000000      0.000000      0.000000      1.000000      0.000000   \n",
       "25%        0.000000      0.000000      0.000000      1.000000      1.000000   \n",
       "50%        0.000000      0.000000      0.000000      1.000000      1.000000   \n",
       "75%        0.000000      0.000000      1.000000      2.000000      2.000000   \n",
       "max        1.000000      1.000000      1.000000     57.000000     56.000000   \n",
       "\n",
       "          times_per      avg_wait  \n",
       "count  40045.000000  40045.000000  \n",
       "mean       0.804034     11.390302  \n",
       "std        0.348561     15.185358  \n",
       "min        0.000000      0.000000  \n",
       "25%        0.666667      0.250000  \n",
       "50%        1.000000      6.000000  \n",
       "75%        1.000000     17.000000  \n",
       "max        1.000000    179.000000  "
      ]
     },
     "execution_count": 12,
     "metadata": {},
     "output_type": "execute_result"
    }
   ],
   "source": [
    "#The above observations were drawn from the following lines of code:\n",
    "df1[df1['Gender']== 'M'].describe()\n",
    "df1[df1['Gender']== 'F'].describe()"
   ]
  },
  {
   "cell_type": "markdown",
   "metadata": {},
   "source": [
    "# DAY OF THE WEEK ANALYSIS\n",
    "\n",
    ">- ***What is the distribution of appointments during the week? It it related to the % of attendance of the people?***\n",
    " \n",
    " #### Around two thirds of the appointments are scheduled for days at the beginning of the week (Mon - Wed). Appointments on Fridays or Thursdays are slightly less frequent, while almost no appointments are scheduled for Saturdays. No appointments could be observed on Sundays at all. \n",
    " \n",
    " #### The percentage of appointments with a show-up is always above 75%, indicating that there is not a strong relation between the day of the appointment and the probability that the patient will not show up at the appointment. However, on Fridays and Saturdays the average percentage is few  points lower than on the other days of the week. This could point out that an appointment set up for the weekend might have a slight higher chance to be a no-show. Further analysis would be needed. \n"
   ]
  },
  {
   "cell_type": "code",
   "execution_count": 13,
   "metadata": {},
   "outputs": [
    {
     "data": {
      "text/plain": [
       "day_week_App\n",
       "Friday       19019\n",
       "Monday       22713\n",
       "Saturday        39\n",
       "Thursday     17246\n",
       "Tuesday      25638\n",
       "Wednesday    25866\n",
       "Name: times_per, dtype: int64"
      ]
     },
     "execution_count": 13,
     "metadata": {},
     "output_type": "execute_result"
    }
   ],
   "source": [
    "#count the number of appointments per day\n",
    "df.groupby(['day_week_App'])['times_per'].count()"
   ]
  },
  {
   "cell_type": "code",
   "execution_count": 14,
   "metadata": {},
   "outputs": [
    {
     "data": {
      "text/plain": [
       "day_week_App\n",
       "Friday       0.172085\n",
       "Monday       0.205508\n",
       "Saturday     0.000353\n",
       "Thursday     0.156043\n",
       "Tuesday      0.231974\n",
       "Wednesday    0.234037\n",
       "Name: times_per, dtype: float64"
      ]
     },
     "execution_count": 14,
     "metadata": {},
     "output_type": "execute_result"
    }
   ],
   "source": [
    "#count the number of appointments per day (relative terms)\n",
    "df.groupby(['day_week_App'])['times_per'].count()/ df['times_per'].count()"
   ]
  },
  {
   "cell_type": "code",
   "execution_count": 15,
   "metadata": {},
   "outputs": [
    {
     "data": {
      "text/plain": [
       "day_week_App\n",
       "Friday       0.787739\n",
       "Monday       0.793554\n",
       "Saturday     0.769231\n",
       "Thursday     0.806506\n",
       "Tuesday      0.799126\n",
       "Wednesday    0.803139\n",
       "dtype: float64"
      ]
     },
     "execution_count": 15,
     "metadata": {},
     "output_type": "execute_result"
    }
   ],
   "source": [
    "# percentage of attendance for the appointments set up for each day of the week\n",
    "df2 = df.groupby(['day_week_App'])['show'].sum() / df.groupby(['day_week_App'])['times_per'].count()\n",
    "df2"
   ]
  },
  {
   "cell_type": "code",
   "execution_count": 16,
   "metadata": {},
   "outputs": [
    {
     "data": {
      "text/plain": [
       "(0, 1)"
      ]
     },
     "execution_count": 16,
     "metadata": {},
     "output_type": "execute_result"
    },
    {
     "data": {
      "image/png": "[encoded data removed]",
      "text/plain": [
       "<matplotlib.figure.Figure at 0x7f7b9ae92748>"
      ]
     },
     "metadata": {
      "needs_background": "light"
     },
     "output_type": "display_data"
    }
   ],
   "source": [
    "# some sorting of the new dataframe that will be useful for the following chart about the \n",
    "# percentage of attendance for the appointments set up for each day of the week\n",
    "df2 = pd.DataFrame(df2)\n",
    "df2.reset_index(level=0, inplace=True)\n",
    "df2 = df2.rename(columns = {\"day_week_App\" : \"Day_week\",  df2.columns[1]: \"attending_per\"})\n",
    "df2['Index']= 0\n",
    "df2.loc[df2['Day_week']=='Tuesday', ['Index']] = 1\n",
    "df2.loc[df2['Day_week']=='Wednesday', ['Index']] = 2\n",
    "df2.loc[df2['Day_week']=='Thursday', ['Index']] = 3\n",
    "df2.loc[df2['Day_week']=='Friday', ['Index']] = 4\n",
    "df2.loc[df2['Day_week']=='Saturday', ['Index']] = 5\n",
    "df2.set_index('Index', inplace=True)\n",
    "df2.sort_index(inplace=True)\n",
    "df2.plot(kind = 'bar', x = 'Day_week', legend = False)\n",
    "plot.title('% of attendance per day of the week')\n",
    "plot.xlabel('Day of the week', fontsize=13)\n",
    "plot.ylabel('% of appointmes with show up', fontsize=13)\n",
    "plot.ylim(0,1)"
   ]
  },
  {
   "cell_type": "markdown",
   "metadata": {},
   "source": [
    ">- % of attendance  stays high above 75% on every day of the week;\n",
    ">- no appointments on sundays;\n",
    ">- Friday and saturday's % of attendance slightly lower than on the other days. "
   ]
  },
  {
   "cell_type": "markdown",
   "metadata": {},
   "source": [
    "ANALYSIS OF WAITING TIME, SMS RECEIVED, AGE AND PATIENTS' CHARACTERISTICS \n",
    "\n",
    " #### A first idea about the relation between the variables and the % of attendance for the patients is provided by the covariance matrix.\n",
    " \n",
    " >- ***Have those patients that suffer of some disease showed up at a medical appointment compared to those patients that are healthy?***\n",
    " \n",
    " #### The correlation matrix points out that there is a mild positive relation with Hypertension, Handicap and Diabetes and a mild negative one with Alcoholism and being in a social welfare program. According to these results some people would be more likely to show up in case they are suffering from some disease and they would be less likely to show up if they pay less (being part of the social welfare program) or if they have alcohol problems.\n",
    " \n",
    " \n",
    " #### A stronger correlation is observed for the following variables: AGE, SMS RECEIVED AND WAITING TIME, which will be analysed in the following lines of code. \n"
   ]
  },
  {
   "cell_type": "code",
   "execution_count": 17,
   "metadata": {},
   "outputs": [
    {
     "data": {
      "text/html": [
       "<div>\n",
       "<style scoped>\n",
       "    .dataframe tbody tr th:only-of-type {\n",
       "        vertical-align: middle;\n",
       "    }\n",
       "\n",
       "    .dataframe tbody tr th {\n",
       "        vertical-align: top;\n",
       "    }\n",
       "\n",
       "    .dataframe thead th {\n",
       "        text-align: right;\n",
       "    }\n",
       "</style>\n",
       "<table border=\"1\" class=\"dataframe\">\n",
       "  <thead>\n",
       "    <tr style=\"text-align: right;\">\n",
       "      <th></th>\n",
       "      <th>PatientId</th>\n",
       "      <th>Age</th>\n",
       "      <th>Scholarship</th>\n",
       "      <th>Hipertension</th>\n",
       "      <th>Diabetes</th>\n",
       "      <th>Alcoholism</th>\n",
       "      <th>Handcap</th>\n",
       "      <th>SMS_received</th>\n",
       "      <th>times</th>\n",
       "      <th>times_went</th>\n",
       "      <th>times_per</th>\n",
       "      <th>avg_wait</th>\n",
       "    </tr>\n",
       "  </thead>\n",
       "  <tbody>\n",
       "    <tr>\n",
       "      <th>PatientId</th>\n",
       "      <td>1.000000</td>\n",
       "      <td>-0.000948</td>\n",
       "      <td>-0.000593</td>\n",
       "      <td>-0.001620</td>\n",
       "      <td>0.000540</td>\n",
       "      <td>-0.000472</td>\n",
       "      <td>-0.004720</td>\n",
       "      <td>-0.008697</td>\n",
       "      <td>0.001276</td>\n",
       "      <td>0.001762</td>\n",
       "      <td>-0.000723</td>\n",
       "      <td>-0.001685</td>\n",
       "    </tr>\n",
       "    <tr>\n",
       "      <th>Age</th>\n",
       "      <td>-0.000948</td>\n",
       "      <td>1.000000</td>\n",
       "      <td>-0.092302</td>\n",
       "      <td>0.513242</td>\n",
       "      <td>0.293621</td>\n",
       "      <td>0.085287</td>\n",
       "      <td>0.092138</td>\n",
       "      <td>0.021280</td>\n",
       "      <td>0.015888</td>\n",
       "      <td>0.039835</td>\n",
       "      <td>0.070086</td>\n",
       "      <td>0.053059</td>\n",
       "    </tr>\n",
       "    <tr>\n",
       "      <th>Scholarship</th>\n",
       "      <td>-0.000593</td>\n",
       "      <td>-0.092302</td>\n",
       "      <td>1.000000</td>\n",
       "      <td>-0.023014</td>\n",
       "      <td>-0.022253</td>\n",
       "      <td>0.031349</td>\n",
       "      <td>-0.005903</td>\n",
       "      <td>0.001076</td>\n",
       "      <td>0.018513</td>\n",
       "      <td>0.002992</td>\n",
       "      <td>-0.027229</td>\n",
       "      <td>-0.034933</td>\n",
       "    </tr>\n",
       "    <tr>\n",
       "      <th>Hipertension</th>\n",
       "      <td>-0.001620</td>\n",
       "      <td>0.513242</td>\n",
       "      <td>-0.023014</td>\n",
       "      <td>1.000000</td>\n",
       "      <td>0.427405</td>\n",
       "      <td>0.079447</td>\n",
       "      <td>0.092615</td>\n",
       "      <td>-0.007211</td>\n",
       "      <td>0.001890</td>\n",
       "      <td>0.017311</td>\n",
       "      <td>0.047836</td>\n",
       "      <td>-0.020564</td>\n",
       "    </tr>\n",
       "    <tr>\n",
       "      <th>Diabetes</th>\n",
       "      <td>0.000540</td>\n",
       "      <td>0.293621</td>\n",
       "      <td>-0.022253</td>\n",
       "      <td>0.427405</td>\n",
       "      <td>1.000000</td>\n",
       "      <td>0.026164</td>\n",
       "      <td>0.063513</td>\n",
       "      <td>-0.017155</td>\n",
       "      <td>0.003841</td>\n",
       "      <td>0.010034</td>\n",
       "      <td>0.020794</td>\n",
       "      <td>-0.032840</td>\n",
       "    </tr>\n",
       "    <tr>\n",
       "      <th>Alcoholism</th>\n",
       "      <td>-0.000472</td>\n",
       "      <td>0.085287</td>\n",
       "      <td>0.031349</td>\n",
       "      <td>0.079447</td>\n",
       "      <td>0.026164</td>\n",
       "      <td>1.000000</td>\n",
       "      <td>0.012209</td>\n",
       "      <td>-0.010252</td>\n",
       "      <td>0.040634</td>\n",
       "      <td>0.035450</td>\n",
       "      <td>-0.017384</td>\n",
       "      <td>-0.026040</td>\n",
       "    </tr>\n",
       "    <tr>\n",
       "      <th>Handcap</th>\n",
       "      <td>-0.004720</td>\n",
       "      <td>0.092138</td>\n",
       "      <td>-0.005903</td>\n",
       "      <td>0.092615</td>\n",
       "      <td>0.063513</td>\n",
       "      <td>0.012209</td>\n",
       "      <td>1.000000</td>\n",
       "      <td>-0.020971</td>\n",
       "      <td>0.015538</td>\n",
       "      <td>0.017003</td>\n",
       "      <td>0.014723</td>\n",
       "      <td>-0.021228</td>\n",
       "    </tr>\n",
       "    <tr>\n",
       "      <th>SMS_received</th>\n",
       "      <td>-0.008697</td>\n",
       "      <td>0.021280</td>\n",
       "      <td>0.001076</td>\n",
       "      <td>-0.007211</td>\n",
       "      <td>-0.017155</td>\n",
       "      <td>-0.010252</td>\n",
       "      <td>-0.020971</td>\n",
       "      <td>1.000000</td>\n",
       "      <td>-0.015887</td>\n",
       "      <td>-0.050380</td>\n",
       "      <td>-0.117874</td>\n",
       "      <td>0.365558</td>\n",
       "    </tr>\n",
       "    <tr>\n",
       "      <th>times</th>\n",
       "      <td>0.001276</td>\n",
       "      <td>0.015888</td>\n",
       "      <td>0.018513</td>\n",
       "      <td>0.001890</td>\n",
       "      <td>0.003841</td>\n",
       "      <td>0.040634</td>\n",
       "      <td>0.015538</td>\n",
       "      <td>-0.015887</td>\n",
       "      <td>1.000000</td>\n",
       "      <td>0.920989</td>\n",
       "      <td>-0.015617</td>\n",
       "      <td>-0.064660</td>\n",
       "    </tr>\n",
       "    <tr>\n",
       "      <th>times_went</th>\n",
       "      <td>0.001762</td>\n",
       "      <td>0.039835</td>\n",
       "      <td>0.002992</td>\n",
       "      <td>0.017311</td>\n",
       "      <td>0.010034</td>\n",
       "      <td>0.035450</td>\n",
       "      <td>0.017003</td>\n",
       "      <td>-0.050380</td>\n",
       "      <td>0.920989</td>\n",
       "      <td>1.000000</td>\n",
       "      <td>0.293004</td>\n",
       "      <td>-0.112236</td>\n",
       "    </tr>\n",
       "    <tr>\n",
       "      <th>times_per</th>\n",
       "      <td>-0.000723</td>\n",
       "      <td>0.070086</td>\n",
       "      <td>-0.027229</td>\n",
       "      <td>0.047836</td>\n",
       "      <td>0.020794</td>\n",
       "      <td>-0.017384</td>\n",
       "      <td>0.014723</td>\n",
       "      <td>-0.117874</td>\n",
       "      <td>-0.015617</td>\n",
       "      <td>0.293004</td>\n",
       "      <td>1.000000</td>\n",
       "      <td>-0.189828</td>\n",
       "    </tr>\n",
       "    <tr>\n",
       "      <th>avg_wait</th>\n",
       "      <td>-0.001685</td>\n",
       "      <td>0.053059</td>\n",
       "      <td>-0.034933</td>\n",
       "      <td>-0.020564</td>\n",
       "      <td>-0.032840</td>\n",
       "      <td>-0.026040</td>\n",
       "      <td>-0.021228</td>\n",
       "      <td>0.365558</td>\n",
       "      <td>-0.064660</td>\n",
       "      <td>-0.112236</td>\n",
       "      <td>-0.189828</td>\n",
       "      <td>1.000000</td>\n",
       "    </tr>\n",
       "  </tbody>\n",
       "</table>\n",
       "</div>"
      ],
      "text/plain": [
       "              PatientId       Age  Scholarship  Hipertension  Diabetes  \\\n",
       "PatientId      1.000000 -0.000948    -0.000593     -0.001620  0.000540   \n",
       "Age           -0.000948  1.000000    -0.092302      0.513242  0.293621   \n",
       "Scholarship   -0.000593 -0.092302     1.000000     -0.023014 -0.022253   \n",
       "Hipertension  -0.001620  0.513242    -0.023014      1.000000  0.427405   \n",
       "Diabetes       0.000540  0.293621    -0.022253      0.427405  1.000000   \n",
       "Alcoholism    -0.000472  0.085287     0.031349      0.079447  0.026164   \n",
       "Handcap       -0.004720  0.092138    -0.005903      0.092615  0.063513   \n",
       "SMS_received  -0.008697  0.021280     0.001076     -0.007211 -0.017155   \n",
       "times          0.001276  0.015888     0.018513      0.001890  0.003841   \n",
       "times_went     0.001762  0.039835     0.002992      0.017311  0.010034   \n",
       "times_per     -0.000723  0.070086    -0.027229      0.047836  0.020794   \n",
       "avg_wait      -0.001685  0.053059    -0.034933     -0.020564 -0.032840   \n",
       "\n",
       "              Alcoholism   Handcap  SMS_received     times  times_went  \\\n",
       "PatientId      -0.000472 -0.004720     -0.008697  0.001276    0.001762   \n",
       "Age             0.085287  0.092138      0.021280  0.015888    0.039835   \n",
       "Scholarship     0.031349 -0.005903      0.001076  0.018513    0.002992   \n",
       "Hipertension    0.079447  0.092615     -0.007211  0.001890    0.017311   \n",
       "Diabetes        0.026164  0.063513     -0.017155  0.003841    0.010034   \n",
       "Alcoholism      1.000000  0.012209     -0.010252  0.040634    0.035450   \n",
       "Handcap         0.012209  1.000000     -0.020971  0.015538    0.017003   \n",
       "SMS_received   -0.010252 -0.020971      1.000000 -0.015887   -0.050380   \n",
       "times           0.040634  0.015538     -0.015887  1.000000    0.920989   \n",
       "times_went      0.035450  0.017003     -0.050380  0.920989    1.000000   \n",
       "times_per      -0.017384  0.014723     -0.117874 -0.015617    0.293004   \n",
       "avg_wait       -0.026040 -0.021228      0.365558 -0.064660   -0.112236   \n",
       "\n",
       "              times_per  avg_wait  \n",
       "PatientId     -0.000723 -0.001685  \n",
       "Age            0.070086  0.053059  \n",
       "Scholarship   -0.027229 -0.034933  \n",
       "Hipertension   0.047836 -0.020564  \n",
       "Diabetes       0.020794 -0.032840  \n",
       "Alcoholism    -0.017384 -0.026040  \n",
       "Handcap        0.014723 -0.021228  \n",
       "SMS_received  -0.117874  0.365558  \n",
       "times         -0.015617 -0.064660  \n",
       "times_went     0.293004 -0.112236  \n",
       "times_per      1.000000 -0.189828  \n",
       "avg_wait      -0.189828  1.000000  "
      ]
     },
     "execution_count": 17,
     "metadata": {},
     "output_type": "execute_result"
    }
   ],
   "source": [
    "#creating a correlation matrix to check what is correlated with times_per (percentage of appointments at wich patient showed up)\n",
    "corr_matrix = df1.corr()\n",
    "corr_matrix"
   ]
  },
  {
   "cell_type": "code",
   "execution_count": 18,
   "metadata": {},
   "outputs": [
    {
     "data": {
      "text/plain": [
       "(-0.027228733714718314, 1.0659952200977295e-11)"
      ]
     },
     "execution_count": 18,
     "metadata": {},
     "output_type": "execute_result"
    }
   ],
   "source": [
    "#The following lines of code display the Pearson correlation with statistical coefficents (p-values)\n",
    "pearsonr(df1['times_per'],df1['Scholarship'])"
   ]
  },
  {
   "cell_type": "code",
   "execution_count": 19,
   "metadata": {},
   "outputs": [
    {
     "data": {
      "text/plain": [
       "(0.047836203743209502, 6.7873508319382743e-33)"
      ]
     },
     "execution_count": 19,
     "metadata": {},
     "output_type": "execute_result"
    }
   ],
   "source": [
    "pearsonr(df1['times_per'],df1['Hipertension'])"
   ]
  },
  {
   "cell_type": "code",
   "execution_count": 20,
   "metadata": {},
   "outputs": [
    {
     "data": {
      "text/plain": [
       "(0.02079396109676979, 2.0968537276233962e-07)"
      ]
     },
     "execution_count": 20,
     "metadata": {},
     "output_type": "execute_result"
    }
   ],
   "source": [
    "pearsonr(df1['times_per'],df1['Diabetes'])"
   ]
  },
  {
   "cell_type": "code",
   "execution_count": 21,
   "metadata": {},
   "outputs": [
    {
     "data": {
      "text/plain": [
       "(-0.017384438987767516, 1.429232559589374e-05)"
      ]
     },
     "execution_count": 21,
     "metadata": {},
     "output_type": "execute_result"
    }
   ],
   "source": [
    "pearsonr(df1['times_per'],df1['Alcoholism'])"
   ]
  },
  {
   "cell_type": "code",
   "execution_count": 22,
   "metadata": {},
   "outputs": [
    {
     "data": {
      "text/plain": [
       "(0.014723168466522184, 0.00023788241712185114)"
      ]
     },
     "execution_count": 22,
     "metadata": {},
     "output_type": "execute_result"
    }
   ],
   "source": [
    "pearsonr(df1['times_per'],df1['Handcap'])"
   ]
  },
  {
   "cell_type": "code",
   "execution_count": 23,
   "metadata": {},
   "outputs": [
    {
     "data": {
      "text/plain": [
       "(-0.11787413322503153, 1.4483021745965226e-191)"
      ]
     },
     "execution_count": 23,
     "metadata": {},
     "output_type": "execute_result"
    }
   ],
   "source": [
    "pearsonr(df1['times_per'],df1['SMS_received'])"
   ]
  },
  {
   "cell_type": "code",
   "execution_count": 24,
   "metadata": {},
   "outputs": [
    {
     "data": {
      "text/plain": [
       "(-0.18982768454529489, 0.0)"
      ]
     },
     "execution_count": 24,
     "metadata": {},
     "output_type": "execute_result"
    }
   ],
   "source": [
    "pearsonr(df1['times_per'],df1['avg_wait'])"
   ]
  },
  {
   "cell_type": "code",
   "execution_count": 25,
   "metadata": {},
   "outputs": [
    {
     "data": {
      "text/plain": [
       "(0.070085583453995029, 1.1155466680141659e-68)"
      ]
     },
     "execution_count": 25,
     "metadata": {},
     "output_type": "execute_result"
    }
   ],
   "source": [
    "pearsonr(df1['times_per'],df1['Age'])"
   ]
  },
  {
   "cell_type": "markdown",
   "metadata": {},
   "source": [
    " ### SMS RECEIVED\n",
    " \n",
    " >- ***Have people that received at least on SMS from the doctor missed more or less appointments compared to the other patients?***\n",
    " \n",
    " #### Interestingly, those patients that have received one or more messages are also the ones that have not showed up more at medical appointments. Probably, the messages are usually sent to those patients that have previously not showed up.\n",
    " "
   ]
  },
  {
   "cell_type": "code",
   "execution_count": 26,
   "metadata": {},
   "outputs": [
    {
     "data": {
      "text/plain": [
       "(0, 1)"
      ]
     },
     "execution_count": 26,
     "metadata": {},
     "output_type": "execute_result"
    },
    {
     "data": {
      "image/png": "[encoded data removed]",
      "text/plain": [
       "<matplotlib.figure.Figure at 0x7f7b99fe59e8>"
      ]
     },
     "metadata": {
      "needs_background": "light"
     },
     "output_type": "display_data"
    }
   ],
   "source": [
    "# % of appointments at which patients showed up depending on if they have received or not some SMS. \n",
    "df6 = df1.copy()\n",
    "df6['SMS'] = 'Not received'\n",
    "df6.loc[df['SMS_received']== 1, ['SMS']] = 'Received'\n",
    "sms = df6.groupby(['SMS'])['times_per'].mean()\n",
    "sms.plot(kind = 'bar')\n",
    "plot.ylabel('% attendance at tappointments', fontsize=13)\n",
    "plot.title('% of attendance for people receiving and not receiving a SMS')\n",
    "plot.ylim(0,1)"
   ]
  },
  {
   "cell_type": "markdown",
   "metadata": {},
   "source": [
    "> - People receiving a SMS have missed more appointments than other patients (around 10%);\n",
    "> - Anyway, the % of attendance  remains high above 75% in both cases."
   ]
  },
  {
   "cell_type": "code",
   "execution_count": 27,
   "metadata": {},
   "outputs": [
    {
     "data": {
      "text/html": [
       "<div>\n",
       "<style scoped>\n",
       "    .dataframe tbody tr th:only-of-type {\n",
       "        vertical-align: middle;\n",
       "    }\n",
       "\n",
       "    .dataframe tbody tr th {\n",
       "        vertical-align: top;\n",
       "    }\n",
       "\n",
       "    .dataframe thead th {\n",
       "        text-align: right;\n",
       "    }\n",
       "</style>\n",
       "<table border=\"1\" class=\"dataframe\">\n",
       "  <thead>\n",
       "    <tr style=\"text-align: right;\">\n",
       "      <th></th>\n",
       "      <th>times_per</th>\n",
       "      <th>avg_wait</th>\n",
       "      <th>Age</th>\n",
       "      <th>PatientId</th>\n",
       "    </tr>\n",
       "  </thead>\n",
       "  <tbody>\n",
       "    <tr>\n",
       "      <th>count</th>\n",
       "      <td>62298.000000</td>\n",
       "      <td>62298.000000</td>\n",
       "      <td>62298.000000</td>\n",
       "      <td>6.229800e+04</td>\n",
       "    </tr>\n",
       "    <tr>\n",
       "      <th>mean</th>\n",
       "      <td>0.803578</td>\n",
       "      <td>11.155883</td>\n",
       "      <td>36.705496</td>\n",
       "      <td>1.471660e+14</td>\n",
       "    </tr>\n",
       "    <tr>\n",
       "      <th>std</th>\n",
       "      <td>0.351419</td>\n",
       "      <td>15.058138</td>\n",
       "      <td>23.531076</td>\n",
       "      <td>2.549080e+14</td>\n",
       "    </tr>\n",
       "    <tr>\n",
       "      <th>min</th>\n",
       "      <td>0.000000</td>\n",
       "      <td>0.000000</td>\n",
       "      <td>0.000000</td>\n",
       "      <td>3.921784e+04</td>\n",
       "    </tr>\n",
       "    <tr>\n",
       "      <th>25%</th>\n",
       "      <td>0.666667</td>\n",
       "      <td>0.000000</td>\n",
       "      <td>17.000000</td>\n",
       "      <td>4.176935e+12</td>\n",
       "    </tr>\n",
       "    <tr>\n",
       "      <th>50%</th>\n",
       "      <td>1.000000</td>\n",
       "      <td>5.500000</td>\n",
       "      <td>36.000000</td>\n",
       "      <td>3.198294e+13</td>\n",
       "    </tr>\n",
       "    <tr>\n",
       "      <th>75%</th>\n",
       "      <td>1.000000</td>\n",
       "      <td>16.500000</td>\n",
       "      <td>56.000000</td>\n",
       "      <td>9.484763e+13</td>\n",
       "    </tr>\n",
       "    <tr>\n",
       "      <th>max</th>\n",
       "      <td>1.000000</td>\n",
       "      <td>179.000000</td>\n",
       "      <td>115.000000</td>\n",
       "      <td>9.999816e+14</td>\n",
       "    </tr>\n",
       "  </tbody>\n",
       "</table>\n",
       "</div>"
      ],
      "text/plain": [
       "          times_per      avg_wait           Age     PatientId\n",
       "count  62298.000000  62298.000000  62298.000000  6.229800e+04\n",
       "mean       0.803578     11.155883     36.705496  1.471660e+14\n",
       "std        0.351419     15.058138     23.531076  2.549080e+14\n",
       "min        0.000000      0.000000      0.000000  3.921784e+04\n",
       "25%        0.666667      0.000000     17.000000  4.176935e+12\n",
       "50%        1.000000      5.500000     36.000000  3.198294e+13\n",
       "75%        1.000000     16.500000     56.000000  9.484763e+13\n",
       "max        1.000000    179.000000    115.000000  9.999816e+14"
      ]
     },
     "execution_count": 27,
     "metadata": {},
     "output_type": "execute_result"
    }
   ],
   "source": [
    "#creating a new dataframe to isolate the variables we want to focus on\n",
    "df3 = df1[['times_per','avg_wait','Age','PatientId']].copy()\n",
    "df3.describe()"
   ]
  },
  {
   "attachments": {
    "image.png": {
     "image/png": "[encoded data removed]"
    }
   },
   "cell_type": "markdown",
   "metadata": {},
   "source": [
    "\n",
    "### AGE\n",
    "\n",
    ">- ***Are older people missing less appointments?***\n",
    "\n",
    "#### Overall, older people are less likely to miss an appointment. The average age of people that have missed all appointments is 5 years lower than the ones that have been present at every medical appointment. A deeper look reveals that, although there is a posìtive correlation between age and % of attendance, usually people who are between 0 and 17 years old miss less appointments than those people that are 17-36 years old. \n",
    "\n",
    "#### Indeed, the chart ![image.png](attachment:image.png) displays that the relationship between age and % of attendance is negative for patients that are between 0 to 20 years old and then becomes clearly positive until 80 years. After 80 years, the relations becomes milder, although still positive. \n"
   ]
  },
  {
   "cell_type": "code",
   "execution_count": 28,
   "metadata": {},
   "outputs": [
    {
     "data": {
      "text/html": [
       "<div>\n",
       "<style scoped>\n",
       "    .dataframe tbody tr th:only-of-type {\n",
       "        vertical-align: middle;\n",
       "    }\n",
       "\n",
       "    .dataframe tbody tr th {\n",
       "        vertical-align: top;\n",
       "    }\n",
       "\n",
       "    .dataframe thead th {\n",
       "        text-align: right;\n",
       "    }\n",
       "</style>\n",
       "<table border=\"1\" class=\"dataframe\">\n",
       "  <thead>\n",
       "    <tr style=\"text-align: right;\">\n",
       "      <th></th>\n",
       "      <th>levels</th>\n",
       "      <th>lev_wait</th>\n",
       "      <th>lev_age</th>\n",
       "    </tr>\n",
       "    <tr>\n",
       "      <th>Index</th>\n",
       "      <th></th>\n",
       "      <th></th>\n",
       "      <th></th>\n",
       "    </tr>\n",
       "  </thead>\n",
       "  <tbody>\n",
       "    <tr>\n",
       "      <th>0</th>\n",
       "      <td>zero attendance</td>\n",
       "      <td>18.766612</td>\n",
       "      <td>33.232044</td>\n",
       "    </tr>\n",
       "    <tr>\n",
       "      <th>1</th>\n",
       "      <td>low attendance</td>\n",
       "      <td>12.369458</td>\n",
       "      <td>34.492754</td>\n",
       "    </tr>\n",
       "    <tr>\n",
       "      <th>2</th>\n",
       "      <td>medium attendance</td>\n",
       "      <td>11.788718</td>\n",
       "      <td>34.389613</td>\n",
       "    </tr>\n",
       "    <tr>\n",
       "      <th>3</th>\n",
       "      <td>high attendance</td>\n",
       "      <td>9.179989</td>\n",
       "      <td>36.881786</td>\n",
       "    </tr>\n",
       "    <tr>\n",
       "      <th>4</th>\n",
       "      <td>full attendance</td>\n",
       "      <td>9.841625</td>\n",
       "      <td>37.629926</td>\n",
       "    </tr>\n",
       "  </tbody>\n",
       "</table>\n",
       "</div>"
      ],
      "text/plain": [
       "                  levels   lev_wait    lev_age\n",
       "Index                                         \n",
       "0        zero attendance  18.766612  33.232044\n",
       "1         low attendance  12.369458  34.492754\n",
       "2      medium attendance  11.788718  34.389613\n",
       "3        high attendance   9.179989  36.881786\n",
       "4        full attendance   9.841625  37.629926"
      ]
     },
     "execution_count": 28,
     "metadata": {},
     "output_type": "execute_result"
    }
   ],
   "source": [
    "#studying the data divided in 5 groups based on how many times (in %) the patients have showed up at appointments\n",
    "lim_per=[-0.00001, 0.00001, 0.33,0.66,0.999,1]\n",
    "lim_def = ['zero attendance','low attendance', 'medium attendance' , 'high attendance', 'full attendance']\n",
    "df3['levels']=pd.cut(df['times_per'], lim_per, labels = lim_def)\n",
    "df3['lev_wait']= df3.groupby(['levels'])['avg_wait'].transform(np.mean)\n",
    "df3['lev_age']= df3.groupby(['levels'])['Age'].transform(np.mean)\n",
    "df4 = df3[['levels','lev_wait','lev_age']].copy()\n",
    "df4 = df4.drop_duplicates(subset= 'levels')\n",
    "df4['Index']= 0\n",
    "df4.loc[df4['levels']=='low attendance', ['Index']] = 1\n",
    "df4.loc[df4['levels']=='medium attendance', ['Index']] = 2\n",
    "df4.loc[df4['levels']=='high attendance', ['Index']] = 3\n",
    "df4.loc[df4['levels']=='full attendance', ['Index']] = 4\n",
    "df4.set_index('Index', inplace=True)\n",
    "df4.sort_index(inplace=True)\n",
    "df4"
   ]
  },
  {
   "cell_type": "code",
   "execution_count": 29,
   "metadata": {},
   "outputs": [
    {
     "data": {
      "text/plain": [
       "Text(0.5,1,'Average age for % attandance groups')"
      ]
     },
     "execution_count": 29,
     "metadata": {},
     "output_type": "execute_result"
    },
    {
     "data": {
      "image/png": "[encoded data removed]",
      "text/plain": [
       "<matplotlib.figure.Figure at 0x7f7b968317b8>"
      ]
     },
     "metadata": {
      "needs_background": "light"
     },
     "output_type": "display_data"
    }
   ],
   "source": [
    "#Creating a chart to show the relation between age and % of attendance.\n",
    "df4['lev_age'].plot(kind= 'bar', x = 'levels', figsize = (8,6))\n",
    "plot.xlabel('% attendance to appoitnments', fontsize=13)\n",
    "plot.ylabel('Average age', fontsize=13)\n",
    "plot.ylim(30,40)\n",
    "plot.xticks(df4.index,df4[\"levels\"].values)\n",
    "plot.title('Average age for % attandance groups')"
   ]
  },
  {
   "cell_type": "markdown",
   "metadata": {},
   "source": [
    ">- People that have showed up at every appointment are, on average, 5 years older than those patients that never showed up;\n",
    ">- The chart clearly points out  positive relationship between the age of the group and average behaviour of the groups expressed in % of attendance. "
   ]
  },
  {
   "cell_type": "code",
   "execution_count": 30,
   "metadata": {},
   "outputs": [
    {
     "data": {
      "text/html": [
       "<div>\n",
       "<style scoped>\n",
       "    .dataframe tbody tr th:only-of-type {\n",
       "        vertical-align: middle;\n",
       "    }\n",
       "\n",
       "    .dataframe tbody tr th {\n",
       "        vertical-align: top;\n",
       "    }\n",
       "\n",
       "    .dataframe thead th {\n",
       "        text-align: right;\n",
       "    }\n",
       "</style>\n",
       "<table border=\"1\" class=\"dataframe\">\n",
       "  <thead>\n",
       "    <tr style=\"text-align: right;\">\n",
       "      <th></th>\n",
       "      <th>levels</th>\n",
       "      <th>lev_per</th>\n",
       "    </tr>\n",
       "    <tr>\n",
       "      <th>Index</th>\n",
       "      <th></th>\n",
       "      <th></th>\n",
       "    </tr>\n",
       "  </thead>\n",
       "  <tbody>\n",
       "    <tr>\n",
       "      <th>0</th>\n",
       "      <td>very young</td>\n",
       "      <td>0.791430</td>\n",
       "    </tr>\n",
       "    <tr>\n",
       "      <th>1</th>\n",
       "      <td>young</td>\n",
       "      <td>0.763453</td>\n",
       "    </tr>\n",
       "    <tr>\n",
       "      <th>2</th>\n",
       "      <td>adult</td>\n",
       "      <td>0.807290</td>\n",
       "    </tr>\n",
       "    <tr>\n",
       "      <th>3</th>\n",
       "      <td>elderly</td>\n",
       "      <td>0.853680</td>\n",
       "    </tr>\n",
       "  </tbody>\n",
       "</table>\n",
       "</div>"
      ],
      "text/plain": [
       "           levels   lev_per\n",
       "Index                      \n",
       "0      very young  0.791430\n",
       "1           young  0.763453\n",
       "2           adult  0.807290\n",
       "3         elderly  0.853680"
      ]
     },
     "execution_count": 30,
     "metadata": {},
     "output_type": "execute_result"
    }
   ],
   "source": [
    "#studying age groups to see the average % of attendance in each group\n",
    "df3.describe()\n",
    "lim_per=[-0.0001, 17, 36, 56, 115]\n",
    "lim_def = ['very young','young', 'adult' , 'elderly']\n",
    "df3['levels']=pd.cut(df['Age'], lim_per, labels = lim_def)\n",
    "df3['lev_per']= df3.groupby(['levels'])['times_per'].transform(np.mean)\n",
    "df5 = df3[['levels','lev_per']].copy()\n",
    "df5 = df5.drop_duplicates(subset= 'levels')\n",
    "df5['Index']= 0\n",
    "df5.loc[df5['levels']=='young', ['Index']] = 1\n",
    "df5.loc[df5['levels']=='adult', ['Index']] = 2\n",
    "df5.loc[df5['levels']=='elderly', ['Index']] = 3\n",
    "df5.set_index('Index', inplace=True)\n",
    "df5.sort_index(inplace=True)\n",
    "df5"
   ]
  },
  {
   "cell_type": "code",
   "execution_count": 31,
   "metadata": {},
   "outputs": [
    {
     "data": {
      "text/plain": [
       "([<matplotlib.axis.XTick at 0x7f7bb41a5a20>,\n",
       "  <matplotlib.axis.XTick at 0x7f7b99fffb70>,\n",
       "  <matplotlib.axis.XTick at 0x7f7b9adf7f60>,\n",
       "  <matplotlib.axis.XTick at 0x7f7b94372c88>],\n",
       " <a list of 4 Text xticklabel objects>)"
      ]
     },
     "execution_count": 31,
     "metadata": {},
     "output_type": "execute_result"
    },
    {
     "data": {
      "image/png": "[encoded data removed]",
      "text/plain": [
       "<matplotlib.figure.Figure at 0x7f7b9ae313c8>"
      ]
     },
     "metadata": {
      "needs_background": "light"
     },
     "output_type": "display_data"
    }
   ],
   "source": [
    "#creating a chart to show the average % of attendance in each age group\n",
    "df5['lev_per'].plot(kind= 'bar', x = 'levels', figsize = (8,6))\n",
    "plot.xlabel('Age class', fontsize=13)\n",
    "plot.ylabel('% attendance at appointments', fontsize=13)\n",
    "plot.ylim(0.6,1)\n",
    "plot.title('% of attendance for each age class')\n",
    "plot.xticks(df5.index,df5[\"levels\"].values)"
   ]
  },
  {
   "cell_type": "markdown",
   "metadata": {},
   "source": [
    ">- Older people miss less appointments than young people;\n",
    ">- very young patients are showing up at more appointments than young people, but less than adults and elderly."
   ]
  },
  {
   "cell_type": "code",
   "execution_count": 32,
   "metadata": {},
   "outputs": [
    {
     "data": {
      "text/plain": [
       "Text(0.5,1,'Average % of attendance for age (expressed in years)')"
      ]
     },
     "execution_count": 32,
     "metadata": {},
     "output_type": "execute_result"
    },
    {
     "data": {
      "image/png": "[encoded data removed]",
      "text/plain": [
       "<matplotlib.figure.Figure at 0x7f7b99ff6ef0>"
      ]
     },
     "metadata": {
      "needs_background": "light"
     },
     "output_type": "display_data"
    }
   ],
   "source": [
    "#studying the relation between age and % of attendance\n",
    "df3['Mean_%_of_attendace']= df3.groupby(['Age'])['times_per'].transform(np.mean)\n",
    "df3.plot(x = 'Mean_%_of_attendace', y = 'Age' , kind = 'scatter')\n",
    "plot.title('Average % of attendance for age (expressed in years)')"
   ]
  },
  {
   "cell_type": "markdown",
   "metadata": {},
   "source": [
    ">- the correlation between age and and % of attendance is negative from 0 to 20 years and clearly positive thereafter;\n",
    ">- after 80 years, although the correlation remains overall positive, there are some outliers that show an opposite pattern. "
   ]
  },
  {
   "cell_type": "markdown",
   "metadata": {},
   "source": [
    "### WAITING TIME (in days)\n",
    "\n",
    ">- ***Is waiting time related to a higher % of attendance?***\n",
    "\n",
    "#### A longer waiting time is related to a higher amount of cases in which patients have not shown up at the appointment. People showing up to 100% of appointments had a waiting time of around 9 days, almost half of those that have missed every appointment. \n",
    "\n",
    "#### The analysis shows that in case the appointment is set the same day, the % of attendance is very high (>95%). It then decreases when a longer period is considered until it reaches 70% when a period longer than 2 weeks is taken into account. \n"
   ]
  },
  {
   "cell_type": "code",
   "execution_count": 33,
   "metadata": {},
   "outputs": [
    {
     "data": {
      "text/plain": [
       "([<matplotlib.axis.XTick at 0x7f7b9a0e3748>,\n",
       "  <matplotlib.axis.XTick at 0x7f7b9684e240>,\n",
       "  <matplotlib.axis.XTick at 0x7f7b9a1036d8>,\n",
       "  <matplotlib.axis.XTick at 0x7f7b9a116160>,\n",
       "  <matplotlib.axis.XTick at 0x7f7b9a1167f0>],\n",
       " <a list of 5 Text xticklabel objects>)"
      ]
     },
     "execution_count": 33,
     "metadata": {},
     "output_type": "execute_result"
    },
    {
     "data": {
      "image/png": "[encoded data removed]",
      "text/plain": [
       "<matplotlib.figure.Figure at 0x7f7b9a132ba8>"
      ]
     },
     "metadata": {
      "needs_background": "light"
     },
     "output_type": "display_data"
    }
   ],
   "source": [
    "#creating a chart to show the relation between the waiting time (in days) and the % of attendance. \n",
    "df4['lev_wait'].plot(kind= 'bar', x = 'levels', figsize = (8,6))\n",
    "plot.xlabel('% attendance to appoitnments', fontsize=13)\n",
    "plot.ylabel('Average waiting time (in days)', fontsize=13)\n",
    "plot.ylim(0,20)\n",
    "plot.title('Average age for % attandance groups')\n",
    "plot.xticks(df4.index,df4[\"levels\"].values)"
   ]
  },
  {
   "cell_type": "markdown",
   "metadata": {},
   "source": [
    ">- patients having missed all appointments had an average waiting time of 19 days in contrast with the 9 and 10 days for the people with a high attendance and full attendance, respectively;\n",
    ">- the correlation between waiting time and and % of attendance seems to be negative."
   ]
  },
  {
   "cell_type": "code",
   "execution_count": 34,
   "metadata": {},
   "outputs": [
    {
     "data": {
      "text/html": [
       "<div>\n",
       "<style scoped>\n",
       "    .dataframe tbody tr th:only-of-type {\n",
       "        vertical-align: middle;\n",
       "    }\n",
       "\n",
       "    .dataframe tbody tr th {\n",
       "        vertical-align: top;\n",
       "    }\n",
       "\n",
       "    .dataframe thead th {\n",
       "        text-align: right;\n",
       "    }\n",
       "</style>\n",
       "<table border=\"1\" class=\"dataframe\">\n",
       "  <thead>\n",
       "    <tr style=\"text-align: right;\">\n",
       "      <th></th>\n",
       "      <th>levels</th>\n",
       "      <th>lev_per</th>\n",
       "    </tr>\n",
       "    <tr>\n",
       "      <th>Index</th>\n",
       "      <th></th>\n",
       "      <th></th>\n",
       "    </tr>\n",
       "  </thead>\n",
       "  <tbody>\n",
       "    <tr>\n",
       "      <th>0</th>\n",
       "      <td>same day</td>\n",
       "      <td>0.968134</td>\n",
       "    </tr>\n",
       "    <tr>\n",
       "      <th>1</th>\n",
       "      <td>short notice</td>\n",
       "      <td>0.792437</td>\n",
       "    </tr>\n",
       "    <tr>\n",
       "      <th>2</th>\n",
       "      <td>medium notice</td>\n",
       "      <td>0.743915</td>\n",
       "    </tr>\n",
       "    <tr>\n",
       "      <th>3</th>\n",
       "      <td>long notice</td>\n",
       "      <td>0.699684</td>\n",
       "    </tr>\n",
       "  </tbody>\n",
       "</table>\n",
       "</div>"
      ],
      "text/plain": [
       "              levels   lev_per\n",
       "Index                         \n",
       "0           same day  0.968134\n",
       "1       short notice  0.792437\n",
       "2      medium notice  0.743915\n",
       "3        long notice  0.699684"
      ]
     },
     "execution_count": 34,
     "metadata": {},
     "output_type": "execute_result"
    }
   ],
   "source": [
    "#studying waiting time groups to see the average % of attendance in each group\n",
    "df1.describe()\n",
    "lim_per=[-0.0001, 0.0001, 5.5, 16.5, 180]\n",
    "lim_def = ['same day','short notice', 'medium notice' , 'long notice']\n",
    "df3['levels']=pd.cut(df['avg_wait'], lim_per, labels = lim_def)\n",
    "df3['lev_per']= df3.groupby(['levels'])['times_per'].transform(np.mean)\n",
    "df6 = df3[['levels','lev_per']].copy()\n",
    "df6 = df6.drop_duplicates(subset= 'levels')\n",
    "df6['Index']= 0\n",
    "df6.loc[df6['levels']=='short notice', ['Index']] = 1\n",
    "df6.loc[df6['levels']=='medium notice', ['Index']] = 2\n",
    "df6.loc[df6['levels']=='long notice', ['Index']] = 3\n",
    "df6.set_index('Index', inplace=True)\n",
    "df6.sort_index(inplace=True)\n",
    "df6"
   ]
  },
  {
   "cell_type": "code",
   "execution_count": 35,
   "metadata": {},
   "outputs": [
    {
     "data": {
      "text/plain": [
       "([<matplotlib.axis.XTick at 0x7f7b99fde4a8>,\n",
       "  <matplotlib.axis.XTick at 0x7f7b9a0caef0>,\n",
       "  <matplotlib.axis.XTick at 0x7f7b9a0760b8>,\n",
       "  <matplotlib.axis.XTick at 0x7f7b9a07e5c0>],\n",
       " <a list of 4 Text xticklabel objects>)"
      ]
     },
     "execution_count": 35,
     "metadata": {},
     "output_type": "execute_result"
    },
    {
     "data": {
      "image/png": "[encoded data removed]",
      "text/plain": [
       "<matplotlib.figure.Figure at 0x7f7b9a103dd8>"
      ]
     },
     "metadata": {
      "needs_background": "light"
     },
     "output_type": "display_data"
    }
   ],
   "source": [
    "#creating a chart to show the average % of attendance in each waiting time group. \n",
    "df6['lev_per'].plot(kind= 'bar', x = 'levels', figsize = (8,6))\n",
    "plot.xlabel('Waiting period class', fontsize=13)\n",
    "plot.ylabel('% attendance at appointments', fontsize=13)\n",
    "plot.ylim(0.6,1)\n",
    "plot.title('% of attendance for each waiting time group')\n",
    "plot.xticks(df6.index,df6[\"levels\"].values)"
   ]
  },
  {
   "cell_type": "markdown",
   "metadata": {},
   "source": [
    ">- patients having the appointment the same day it was set up have a % of attendance equal to 97%, 27% higher thn those that had to wait more than 16.5 days (long notice).\n",
    ">- the correlation between waiting time and and % of attendance seems to be negative.\n",
    " "
   ]
  },
  {
   "cell_type": "code",
   "execution_count": 36,
   "metadata": {
    "scrolled": true
   },
   "outputs": [
    {
     "data": {
      "text/plain": [
       "Text(0.5,1,'Average % of attendance for waiting time (expressed in days)')"
      ]
     },
     "execution_count": 36,
     "metadata": {},
     "output_type": "execute_result"
    },
    {
     "data": {
      "image/png": "[encoded data removed]",
      "text/plain": [
       "<matplotlib.figure.Figure at 0x7f7b9a0ca828>"
      ]
     },
     "metadata": {
      "needs_background": "light"
     },
     "output_type": "display_data"
    }
   ],
   "source": [
    "#studying the relation between waiting time and % of attendance\n",
    "df3['Mean_%_of_attendace']= df3.groupby(['avg_wait'])['times_per'].transform(np.mean)\n",
    "df3.plot(x = 'Mean_%_of_attendace', y = 'avg_wait' , kind = 'scatter')\n",
    "plot.title('Average % of attendance for waiting time (expressed in days)')"
   ]
  },
  {
   "cell_type": "markdown",
   "metadata": {},
   "source": [
    ">- Despite few outliers, the scatter plot displays a negative correlation between the two measures."
   ]
  },
  {
   "cell_type": "markdown",
   "metadata": {},
   "source": [
    "\n",
    " \n",
    "\n",
    "\n",
    "<a id='conclusions'></a>\n",
    "## Conclusions\n",
    "\n",
    "> The analysis focuses on understanding what are the main features related to the no-show at medical appointments phenomenon. \n",
    "\n",
    "> In the first part we have analysed the structure of the dataset trying to identify possible mistakes or error in the formatting.\n",
    "\n",
    "> The second part has been centered on the cleaning of the dataset and the creation of a number of variables that helped us to carry out the investigation. \n",
    "\n",
    "> The third and last part covered several graphical representation and tables which were used to study and evaluate the correlation between several features, such as patients' characteristics or waiting time for the appointment, and the % of appointments to which the patient has participated out of the total that were set up.  \n",
    "\n",
    "> Difference in gender resulted to be not related to a lower or higher % of attendance at medical appointments as males and females behave the same way in this regard. On the other hand, two thirds of the appointments are concentrated in the first three days of the week (Mon-Wed) which also have a higher % of appointments where the patients showed up. However, the % of attendance remains between 76.9 and 80.6% on every day of the week (except Sundays as there are no appointments scheduled on these days).\n",
    "\n",
    "> The analysis has shown that there is a mild positive correlation between the % of attendances for each patient and the fact that the patient is suffering from some disease. At the same time, a mild and negative correlation was noticed with those patients with alcohol problems or that were involved in some social welfare schema. \n",
    "\n",
    "> **The most evident results concerned the relation between the % of attendances and the age of the patient, the fact that the patient had received or not an SMS from the doctor and the waiting time (in terms of days) between the day the appointment was set up and the day of the service. Specifically, it was noticed:**\n",
    "\n",
    ">- **those patients that received one or more SMS are also the ones that miss more appointments;**\n",
    ">- **relation with the age is negative for people that are between  and 0 and 20 years old, while it is positive thereafter;**\n",
    ">- **waiting time is negatively correlated with the % of attendance. For those people that have an average waiting time of 0 days (the appointment is on the same it as set up) the % of attendance reaches the maximum at above 95%.**\n",
    "\n",
    "> A further step in the analysis would be to analyse the causality through a regression model as this study only investigate the correlation between the variables.\n",
    "\n",
    "\n",
    "### Please also notice that this analysis has a number of limitations. First of all, the conclusions cannot be considered meaningful as long as the causality between the variables has not been analysed. Secondly, there might be an issue of missing variables related to other diseases suffered by the patients or other relevant features that might impact the decision of attending or not a visit.  It would indeed be interesting to understand if the sample only concerns public medical visits or also private, and the cost of them.  Finally, the dataset is incomplete in terms of time, as only 7 months (Nov 15 - Jun 16) are considered, and in terms of representativeness, as we do not know if the data are representative or not of the population.\n"
   ]
  },
  {
   "cell_type": "code",
   "execution_count": 37,
   "metadata": {},
   "outputs": [
    {
     "data": {
      "text/plain": [
       "0"
      ]
     },
     "execution_count": 37,
     "metadata": {},
     "output_type": "execute_result"
    }
   ],
   "source": [
    "from subprocess import call\n",
    "call(['python', '-m', 'nbconvert', 'Investigate_a_Dataset.ipynb'])"
   ]
  },
  {
   "cell_type": "code",
   "execution_count": null,
   "metadata": {},
   "outputs": [],
   "source": []
  },
  {
   "cell_type": "code",
   "execution_count": null,
   "metadata": {},
   "outputs": [],
   "source": []
  },
  {
   "cell_type": "code",
   "execution_count": null,
   "metadata": {},
   "outputs": [],
   "source": []
  },
  {
   "cell_type": "code",
   "execution_count": null,
   "metadata": {},
   "outputs": [],
   "source": []
  },
  {
   "cell_type": "code",
   "execution_count": null,
   "metadata": {},
   "outputs": [],
   "source": []
  },
  {
   "cell_type": "code",
   "execution_count": null,
   "metadata": {},
   "outputs": [],
   "source": []
  },
  {
   "cell_type": "code",
   "execution_count": null,
   "metadata": {},
   "outputs": [],
   "source": []
  },
  {
   "cell_type": "code",
   "execution_count": null,
   "metadata": {},
   "outputs": [],
   "source": []
  },
  {
   "cell_type": "code",
   "execution_count": null,
   "metadata": {},
   "outputs": [],
   "source": []
  }
 ],
 "metadata": {
  "kernelspec": {
   "display_name": "Python 3",
   "language": "python",
   "name": "python3"
  },
  "language_info": {
   "codemirror_mode": {
    "name": "ipython",
    "version": 3
   },
   "file_extension": ".py",
   "mimetype": "text/x-python",
   "name": "python",
   "nbconvert_exporter": "python",
   "pygments_lexer": "ipython3",
   "version": "3.7.3"
  }
 },
 "nbformat": 4,
 "nbformat_minor": 2
}
